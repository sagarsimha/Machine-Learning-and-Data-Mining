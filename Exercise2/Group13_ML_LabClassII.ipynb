{
 "cells": [
  {
   "cell_type": "markdown",
   "metadata": {},
   "source": [
    "# Lab Class ML:II"
   ]
  },
  {
   "cell_type": "markdown",
   "metadata": {},
   "source": [
    "# Ankit Satpute, 120825 ; Hsueh Wei, 120820; Sagar Nagaraj Simha, 120797 -(M.Sc. CS4DM) - Group 13"
   ]
  },
  {
   "cell_type": "markdown",
   "metadata": {},
   "source": [
    "## Exercise 3 : Concept Learning"
   ]
  },
  {
   "cell_type": "code",
   "execution_count": 1,
   "metadata": {},
   "outputs": [],
   "source": [
    "import numpy as np"
   ]
  },
  {
   "cell_type": "markdown",
   "metadata": {},
   "source": [
    "## 3a"
   ]
  },
  {
   "cell_type": "code",
   "execution_count": 2,
   "metadata": {},
   "outputs": [],
   "source": [
    "# '#' is used for denoting maximally specific hypothesis\n",
    "def g_0(n):\n",
    "    return (\"?\",) * n\n",
    "\n",
    "def s_0(n):\n",
    "    return (\"#\",) * n"
   ]
  },
  {
   "cell_type": "markdown",
   "metadata": {},
   "source": [
    "## 3b"
   ]
  },
  {
   "cell_type": "code",
   "execution_count": 3,
   "metadata": {},
   "outputs": [],
   "source": [
    "# Returns True if h1 >=g h2\n",
    "def more_general(h1, h2):\n",
    "    isgeneral = []\n",
    "    for i in range(len(h1)):\n",
    "        if h1[i]=='?':\n",
    "            isgeneral.append(True)\n",
    "        elif h1[i]!='#':\n",
    "            if (h1[i]==h2[i] or h2[i]=='#'):\n",
    "                isgeneral.append(True)\n",
    "            else:\n",
    "                isgeneral.append(False)\n",
    "        else:\n",
    "            isgeneral.append(False)\n",
    "    return all(isgeneral)"
   ]
  },
  {
   "cell_type": "code",
   "execution_count": 4,
   "metadata": {},
   "outputs": [
    {
     "data": {
      "text/plain": [
       "False"
      ]
     },
     "execution_count": 4,
     "metadata": {},
     "output_type": "execute_result"
    }
   ],
   "source": [
    "more_general((\"sunny\", \"warm\", \"?\"), (\"sunny\", \"?\", \"normal\"))"
   ]
  },
  {
   "cell_type": "markdown",
   "metadata": {},
   "source": [
    "## 3c"
   ]
  },
  {
   "cell_type": "code",
   "execution_count": 5,
   "metadata": {},
   "outputs": [],
   "source": [
    "# Returns the minimum generalizations of the given hypothesis h w.r.t the current training data\n",
    "def min_generalizations(h, x):\n",
    "    h_mingen =[]\n",
    "    for fea in range(0,len(h)):\n",
    "        if h[fea]==\"#\":\n",
    "            h_mingen.append(x[fea])\n",
    "        else:\n",
    "            if h[fea]==x[fea]:\n",
    "                h_mingen.append(h[fea])\n",
    "            else:\n",
    "                h_mingen.append(\"?\")\n",
    "    return tuple(h_mingen)"
   ]
  },
  {
   "cell_type": "code",
   "execution_count": 6,
   "metadata": {},
   "outputs": [
    {
     "data": {
      "text/plain": [
       "('?', 'warm')"
      ]
     },
     "execution_count": 6,
     "metadata": {},
     "output_type": "execute_result"
    }
   ],
   "source": [
    "min_generalizations(h=(\"sunny\", \"warm\"), x=(\"rainy\", \"warm\"))"
   ]
  },
  {
   "cell_type": "markdown",
   "metadata": {},
   "source": [
    "## 3d"
   ]
  },
  {
   "cell_type": "code",
   "execution_count": 7,
   "metadata": {},
   "outputs": [],
   "source": [
    "# return all minimal specializations of hypothesis h with respect to domains and the training data x\n",
    "def min_specializations(h, domains, x):\n",
    "    h_minspec = []\n",
    "    for fea in range(len(h)):\n",
    "        if h[fea] ==\"?\":\n",
    "            for i in range(len(domains[fea])):\n",
    "                if domains[fea][i] == x[fea]:\n",
    "                    continue # Pick next value in domain\n",
    "                else:\n",
    "                    h_minspec.append( h[:fea]+ (domains[fea][i],) + h[fea+1:] )\n",
    "        elif h[fea] !=\"#\":\n",
    "            h_minspec.append( h[:fea]+ (\"#\",) +h[fea+1:] )\n",
    "    return h_minspec"
   ]
  },
  {
   "cell_type": "code",
   "execution_count": 8,
   "metadata": {},
   "outputs": [
    {
     "data": {
      "text/plain": [
       "[('a', 'x'), ('c', 'x'), ('?', '#')]"
      ]
     },
     "execution_count": 8,
     "metadata": {},
     "output_type": "execute_result"
    }
   ],
   "source": [
    "minspec = min_specializations(h=('?', 'x',), \n",
    "                    domains=[['a', 'b', 'c'], ['x', 'y']], \n",
    "                    x=('b', 'x'))\n",
    "minspec"
   ]
  },
  {
   "cell_type": "markdown",
   "metadata": {},
   "source": [
    "# 3e - Candidate-Elimination algorithm"
   ]
  },
  {
   "cell_type": "code",
   "execution_count": 9,
   "metadata": {},
   "outputs": [],
   "source": [
    "def p_check_g(x, G):\n",
    "    \n",
    "    #FOREACH g ∈ G DO IF g(x) ?= 1 THEN G = G \\ {g} ENDDO   \n",
    "    Gnew = G.copy()\n",
    "    for h in Gnew:\n",
    "        for feature in range(len(h)):\n",
    "            if h[feature] == \"?\":\n",
    "                continue\n",
    "            elif (h[feature] != x[feature]  or h[feature]=='#'):\n",
    "                #Remove h from G\n",
    "                G.remove(h)\n",
    "                break\n",
    "    return G"
   ]
  },
  {
   "cell_type": "code",
   "execution_count": 10,
   "metadata": {},
   "outputs": [],
   "source": [
    "def p_check_s(x, G, S):\n",
    "\n",
    "    #FOREACH s ∈ S DO IF s(x) ?= 1 THEN S = S \\ {s} ENDDO\n",
    "    S_plus = []\n",
    "    Snew = S.copy()\n",
    "    for h in Snew:\n",
    "        S_plus.clear()\n",
    "        for feature in range(len(h)):\n",
    "            if h[feature] == \"?\":\n",
    "                continue\n",
    "            elif (h[feature] != x[feature]  or h[feature]=='#'):\n",
    "                #Remove h from S\n",
    "                S.remove(h)\n",
    "                break\n",
    "                \n",
    "        S_plus.append(min_generalizations(h,x))\n",
    "        #print('Splus',len(S_plus))\n",
    "        \n",
    "        #Adding s which are less general than g in G\n",
    "        if S_plus!= None:\n",
    "            for s in S_plus:\n",
    "                for g in G:\n",
    "                    if more_general(g,s):\n",
    "                        S.append(s)\n",
    "                        \n",
    "        # Removing s which are more general\n",
    "        remove_list = []\n",
    "        \n",
    "        for i in range(len(S)):\n",
    "            for j in range(len(S)):\n",
    "                if S[i] == S[j]:\n",
    "                    continue\n",
    "                if more_general(S[i],S[j]):\n",
    "                    remove_list.append(i)\n",
    "                    break\n",
    "        for index in sorted(remove_list, reverse=True):\n",
    "            del S[index]\n",
    "    return S"
   ]
  },
  {
   "cell_type": "code",
   "execution_count": 11,
   "metadata": {},
   "outputs": [],
   "source": [
    "def n_check_s(x, S):\n",
    "    \n",
    "    #FOREACH s ∈ S DO IF s(x) ?= 0 THEN S = S \\ {s} ENDDO\n",
    "    Snew = S.copy()\n",
    "    for h in Snew:\n",
    "        is_remove = True\n",
    "        for feature in range(len(h)):\n",
    "            if h[feature] == \"?\":\n",
    "                continue\n",
    "            elif (h[feature] != x[feature])  or (h[feature]=='#'):\n",
    "                is_remove = False\n",
    "        # s(x) = 1\n",
    "        if is_remove:\n",
    "            S.remove(h)\n",
    "    return S"
   ]
  },
  {
   "cell_type": "code",
   "execution_count": 12,
   "metadata": {},
   "outputs": [],
   "source": [
    "def n_check_g(x, domains, G, S):\n",
    "    \n",
    "    #FOREACH g ∈ G DO, IF g(x) ?= 0 THEN G = G \\ {g}, G− = min_specializations(g, x)\n",
    "    G_minus = []\n",
    "    Gnew = G.copy()\n",
    "    for h in Gnew:\n",
    "        G_minus.clear()\n",
    "        is_remove = True\n",
    "        for feature in range(len(h)):\n",
    "            if h[feature] == \"?\":\n",
    "                continue\n",
    "            elif (h[feature] != x[feature])  or (h[feature]=='#'):\n",
    "                is_remove = False        \n",
    "        # s(x) = 1\n",
    "        if is_remove:\n",
    "            G.remove(h)\n",
    "            minspec = min_specializations(h,domains,x)\n",
    "            for each in minspec:\n",
    "                G_minus.append(each)\n",
    "                \n",
    "        #Adding g which are more general than s in S\n",
    "        if G_minus!= None:\n",
    "            for g in G_minus:\n",
    "                for s in S:\n",
    "                    if more_general(g,s):\n",
    "                        G.append(g)\n",
    "        \n",
    "        # Removing g which are NOT more general\n",
    "        remove_list = []\n",
    "        for i in range(len(G)):\n",
    "            for j in range(len(G)):\n",
    "                if G[i] == G[j]:\n",
    "                    continue\n",
    "                if more_general(G[i],G[j]):\n",
    "                    remove_list.append(j)\n",
    "                    break\n",
    "        for index in sorted(remove_list, reverse=True):\n",
    "            del G[index]\n",
    "    return G"
   ]
  },
  {
   "cell_type": "code",
   "execution_count": 13,
   "metadata": {},
   "outputs": [],
   "source": [
    "# Candidate Elimination algorithm\n",
    "def candidate_elimination(examples):\n",
    "    domains = []\n",
    "    for i in range(len(examples[0])):\n",
    "        attr = []\n",
    "        for each_instance in examples:\n",
    "            attr.append(each_instance[i])\n",
    "        domains.append(list(set(attr)))\n",
    "\n",
    "    #Maximally generalized \n",
    "    G = []\n",
    "    G.append(g_0(len(examples[0])-1))\n",
    "    #Maximally specialized\n",
    "    S = []\n",
    "    S.append(s_0(len(examples[0])-1))\n",
    "\n",
    "\n",
    "    for each in examples:\n",
    "        if each[len(examples[0])-1] == \"True\":\n",
    "            G = p_check_g(each[:-1],G)\n",
    "            S = p_check_s(each[:-1],G,S)\n",
    "        elif each[len(examples[0])-1] == \"False\":\n",
    "            S = n_check_s(each[:-1],S)\n",
    "            G = n_check_g(each[:-1],domains, G, S)\n",
    "\n",
    "    return (tuple(set(G)),tuple(set(S)))"
   ]
  },
  {
   "cell_type": "markdown",
   "metadata": {},
   "source": [
    "## 3f - EnjoySport Task. Returns G and S"
   ]
  },
  {
   "cell_type": "code",
   "execution_count": 14,
   "metadata": {},
   "outputs": [
    {
     "name": "stdout",
     "output_type": "stream",
     "text": [
      "G is [('sunny', '?', '?', '?', '?', '?', '?'), ('sunny', '?', '?', 'strong', '?', '?', '?'), ('?', 'warm', '?', '?', '?', '?', '?'), ('?', '?', '?', 'strong', '?', '?', 'long'), ('?', 'warm', '?', 'strong', '?', '?', '?'), ('?', '?', '?', '?', '?', '?', 'long')]\n",
      "\n",
      "\n",
      "S is [('sunny', 'warm', '?', 'strong', '?', '?', 'long')]\n"
     ]
    }
   ],
   "source": [
    "#Examples in the form of list of (n + 1)-tuples\n",
    "examples = [('sunny', 'warm', 'normal', 'strong', 'warm', 'same', 'long', 'True'),\n",
    " ('sunny', 'warm', 'high', 'strong', 'warm', 'same', 'long', 'True'),\n",
    " ('rainy', 'cold', 'high', 'weak', 'warm', 'change', 'medium', 'False'),\n",
    " ('sunny', 'warm', 'high', 'strong', 'cool', 'change', 'long', 'True'),\n",
    "('cloudy', 'cold' ,'high' ,'strong' ,'cool', 'change', 'short' ,'False')]\n",
    "\n",
    "# examples = [('monday','no','easygoing','evening','True'),('monday','no','annoyed','evening','False'),\n",
    "#            ('saturday','yes','easygoing','lunchtime','False'),('monday','no','easygoing','morning','True')]\n",
    "\n",
    "G,S = candidate_elimination(examples)\n",
    "G = list(set(G))\n",
    "print(\"G is\",G)\n",
    "print('\\n')\n",
    "S = list(set(S))\n",
    "print(\"S is\",S)"
   ]
  },
  {
   "cell_type": "markdown",
   "metadata": {},
   "source": [
    "## 3g - Hypothesis space V H,D spanned by G and S"
   ]
  },
  {
   "cell_type": "code",
   "execution_count": 15,
   "metadata": {},
   "outputs": [
    {
     "name": "stdout",
     "output_type": "stream",
     "text": [
      "Version Space is:\n",
      "S :\n",
      " [('sunny', 'warm', '?', 'strong', '?', '?', 'long')] \n",
      "\n",
      "Hypotheses in between S and G -->\n",
      " [('sunny', 'warm', '?', 'strong', '?', '?', '?'), ('sunny', 'warm', '?', '?', '?', '?', '?'), ('?', 'warm', '?', '?', '?', '?', 'long'), ('?', 'warm', '?', 'strong', '?', '?', 'long'), ('sunny', '?', '?', 'strong', '?', '?', 'long'), ('sunny', '?', '?', '?', '?', '?', 'long')] \n",
      "\n",
      "G -->\n",
      " [('sunny', '?', '?', '?', '?', '?', '?'), ('sunny', '?', '?', 'strong', '?', '?', '?'), ('?', 'warm', '?', '?', '?', '?', '?'), ('?', '?', '?', 'strong', '?', '?', 'long'), ('?', 'warm', '?', 'strong', '?', '?', '?'), ('?', '?', '?', '?', '?', '?', 'long')] \n",
      "\n"
     ]
    }
   ],
   "source": [
    "version_space=[]\n",
    "for g in G:\n",
    "    for s in S:\n",
    "        for i in range(len(g)):\n",
    "            if g[i] == '?' and s[i] != '?':\n",
    "                version_space.append((g[:i] + (s[i],) + g[i+1:]))\n",
    "versionspace_list = list(set(version_space))\n",
    "Boundaries = G+S\n",
    "versionspace = list(set(versionspace_list).difference(Boundaries))\n",
    "#versionspace\n",
    "print('Version Space is:')\n",
    "print('S :\\n', S,'\\n')\n",
    "print('Hypotheses in between S and G -->\\n', versionspace, '\\n')\n",
    "print('G -->\\n', G, '\\n')"
   ]
  }
 ],
 "metadata": {
  "kernelspec": {
   "display_name": "Python 3",
   "language": "python",
   "name": "python3"
  },
  "language_info": {
   "codemirror_mode": {
    "name": "ipython",
    "version": 3
   },
   "file_extension": ".py",
   "mimetype": "text/x-python",
   "name": "python",
   "nbconvert_exporter": "python",
   "pygments_lexer": "ipython3",
   "version": "3.6.9"
  }
 },
 "nbformat": 4,
 "nbformat_minor": 4
}
